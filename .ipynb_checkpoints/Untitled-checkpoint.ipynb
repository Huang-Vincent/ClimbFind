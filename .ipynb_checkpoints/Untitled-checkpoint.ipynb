{
 "cells": [
  {
   "cell_type": "code",
   "execution_count": 187,
   "metadata": {},
   "outputs": [],
   "source": [
    "#using opencv version 4.1.2\n",
    "import cv2 as cv\n",
    "import numpy as np\n",
    "import matplotlib.pyplot as plt\n",
    "import tkinter as tk\n",
    "from tkinter import filedialog\n",
    "\n",
    "#create a simple gui to select photo\n",
    "root = tk.Tk()\n",
    "root.withdraw()\n",
    "#file_path = filedialog.askopenfilename()\n",
    "file_path = (\"ex1.jpg\")\n",
    "\n",
    "#load colored image, resize to increase speed\n",
    "img = cv.imread(file_path, 1)\n",
    "scale = 1000.0/img.shape[0]\n",
    "height = int(img.shape[1] * scale)\n",
    "img = cv.resize(img, (height,1000))"
   ]
  },
  {
   "cell_type": "code",
   "execution_count": 188,
   "metadata": {},
   "outputs": [
    {
     "data": {
      "image/png": "[encoded data removed]",
      "text/plain": [
       "<Figure size 432x288 with 1 Axes>"
      ]
     },
     "metadata": {
      "needs_background": "light"
     },
     "output_type": "display_data"
    }
   ],
   "source": [
    "img = cv.GaussianBlur(img,(5,5),0)\n",
    "\n",
    "#image must be grayscale for OTSU's thresholding to work\n",
    "gray = cv.cvtColor(img,cv.COLOR_BGR2GRAY)\n",
    "ret,th = cv.threshold(gray,0,255,cv.THRESH_BINARY+cv.THRESH_OTSU)\n",
    "\n",
    "#edge detection\n",
    "edges = cv.Canny(dilated,ret,ret*2,L2gradient = True)\n",
    "\n",
    "ctrs, heir = cv.findContours(edges,cv.RETR_LIST,cv.CHAIN_APPROX_SIMPLE)\n",
    "\n",
    "hulls = map(cv2.convexHull,contours)\n"
   ]
  },
  {
   "cell_type": "code",
   "execution_count": null,
   "metadata": {},
   "outputs": [],
   "source": []
  }
 ],
 "metadata": {
  "kernelspec": {
   "display_name": "Python 3",
   "language": "python",
   "name": "python3"
  },
  "language_info": {
   "codemirror_mode": {
    "name": "ipython",
    "version": 3
   },
   "file_extension": ".py",
   "mimetype": "text/x-python",
   "name": "python",
   "nbconvert_exporter": "python",
   "pygments_lexer": "ipython3",
   "version": "3.7.6"
  }
 },
 "nbformat": 4,
 "nbformat_minor": 2
}
